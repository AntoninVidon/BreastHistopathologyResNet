{
 "cells": [
  {
   "cell_type": "markdown",
   "metadata": {},
   "source": [
    "# Data preparation"
   ]
  },
  {
   "cell_type": "code",
   "execution_count": 2,
   "metadata": {},
   "outputs": [
    {
     "data": {
      "application/vnd.jupyter.widget-view+json": {
       "model_id": "3584282df1a04e7f8b8feab523f7efe2",
       "version_major": 2,
       "version_minor": 0
      },
      "text/plain": [
       "0it [00:00, ?it/s]"
      ]
     },
     "metadata": {},
     "output_type": "display_data"
    }
   ],
   "source": [
    "from pathlib import Path\n",
    "import numpy as np \n",
    "import pandas as pd\n",
    "import pickle\n",
    "from skimage import io\n",
    "from tqdm.notebook import tqdm\n",
    "tqdm().pandas();\n",
    "import os"
   ]
  },
  {
   "cell_type": "markdown",
   "metadata": {},
   "source": [
    "## 1. Extracting paths & metadata in a dataframe"
   ]
  },
  {
   "cell_type": "code",
   "execution_count": 3,
   "metadata": {},
   "outputs": [],
   "source": [
    "# Extract and store all image paths into a list\n",
    "def store_image_paths(input_path = Path.cwd()/'input/breast-histopathology-images'):\n",
    "    image_paths = [image_path for image_path in Path.glob(input_path,pattern = '*/*/*.png')]\n",
    "    return image_paths\n",
    "\n",
    "\n",
    "# Extract all metadata into a dictionary\n",
    "def store_metadata(image_paths) -> dict:\n",
    "    path_data = {'path':[],'patient_id':[],'x_coord':[] ,'y_coord':[],'target':[]}\n",
    "    for image_path in tqdm(image_paths, total = len(image_paths)):\n",
    "        \n",
    "        # get only filename and split to get such a list : ['10253', 'idx5', 'x1001', 'y1001', 'class0.png']\n",
    "        filename_splitted = str(image_path).split('/')[-1].split('_') # replace / by \\\\ for windows\n",
    "        \n",
    "        path_data['path'].append(image_path)\n",
    "        path_data['patient_id'].append(filename_splitted[0])\n",
    "        path_data['x_coord'].append(filename_splitted[2][1:])\n",
    "        path_data['y_coord'].append(filename_splitted[3][1:])\n",
    "        path_data['target'].append(filename_splitted[4][5])   \n",
    "        \n",
    "    return path_data"
   ]
  },
  {
   "cell_type": "code",
   "execution_count": 4,
   "metadata": {},
   "outputs": [
    {
     "data": {
      "application/vnd.jupyter.widget-view+json": {
       "model_id": "30c332dcedb24dc5b6b5c2157c8dbcd6",
       "version_major": 2,
       "version_minor": 0
      },
      "text/plain": [
       "  0%|          | 0/277524 [00:00<?, ?it/s]"
      ]
     },
     "metadata": {},
     "output_type": "display_data"
    }
   ],
   "source": [
    "image_paths = store_image_paths()\n",
    "path_data = store_metadata(image_paths)\n",
    "\n",
    "# Create dataframe from dictionary\n",
    "df_total = pd.DataFrame.from_dict(path_data)\n",
    "df_total = df_total.astype({\"patient_id\" : int, \"x_coord\": int, \"y_coord\": int, \"target\" : int})"
   ]
  },
  {
   "cell_type": "code",
   "execution_count": 5,
   "metadata": {
    "scrolled": true
   },
   "outputs": [
    {
     "name": "stdout",
     "output_type": "stream",
     "text": [
      "<class 'pandas.core.frame.DataFrame'>\n",
      "RangeIndex: 277524 entries, 0 to 277523\n",
      "Data columns (total 5 columns):\n",
      " #   Column      Non-Null Count   Dtype \n",
      "---  ------      --------------   ----- \n",
      " 0   path        277524 non-null  object\n",
      " 1   patient_id  277524 non-null  int64 \n",
      " 2   x_coord     277524 non-null  int64 \n",
      " 3   y_coord     277524 non-null  int64 \n",
      " 4   target      277524 non-null  int64 \n",
      "dtypes: int64(4), object(1)\n",
      "memory usage: 10.6+ MB\n"
     ]
    }
   ],
   "source": [
    "df_total.info()"
   ]
  },
  {
   "cell_type": "markdown",
   "metadata": {},
   "source": [
    "## 2. Extracting patches arrays"
   ]
  },
  {
   "cell_type": "code",
   "execution_count": 6,
   "metadata": {},
   "outputs": [
    {
     "data": {
      "application/vnd.jupyter.widget-view+json": {
       "model_id": "09d256899d6541658af9b0c5292aa692",
       "version_major": 2,
       "version_minor": 0
      },
      "text/plain": [
       "  0%|          | 0/277524 [00:00<?, ?it/s]"
      ]
     },
     "metadata": {},
     "output_type": "display_data"
    },
    {
     "data": {
      "application/vnd.jupyter.widget-view+json": {
       "model_id": "13dcb6ae7072476dbeebf6367c09a9b6",
       "version_major": 2,
       "version_minor": 0
      },
      "text/plain": [
       "  0%|          | 0/277524 [00:00<?, ?it/s]"
      ]
     },
     "metadata": {},
     "output_type": "display_data"
    }
   ],
   "source": [
    "def get_img_arrays(df,):\n",
    "    # read each image array from corresponding path as grayscale and flatten the image array\n",
    "    df['img_array'] = df.progress_apply(lambda x : io.imread(x['path']).flatten(),axis=1); # make sure to specify axis = 1\n",
    "    # get the shape of each image array and store it in the dataframe\n",
    "    df['array_shape'] = df.progress_apply(lambda x : x['img_array'].shape[0],axis=1); # make sure to specify axis = 1\n",
    "    return df\n",
    "\n",
    "df_img = get_img_arrays(df = df_total)"
   ]
  },
  {
   "cell_type": "markdown",
   "metadata": {},
   "source": [
    "## 3. Removing outliers"
   ]
  },
  {
   "cell_type": "code",
   "execution_count": 7,
   "metadata": {},
   "outputs": [],
   "source": [
    "# get all images that do not have an array shape of 7500\n",
    "weird_imgs = df_img[df_img['array_shape'] != 7500] \n",
    "\n",
    "# drop images using indices of the filter\n",
    "df_img.drop(weird_imgs.index,inplace=True) "
   ]
  },
  {
   "cell_type": "markdown",
   "metadata": {},
   "source": [
    "## 4. Selecting sample for model training"
   ]
  },
  {
   "cell_type": "code",
   "execution_count": 8,
   "metadata": {},
   "outputs": [],
   "source": [
    "# quantity of cancerous and healthy data to be used for model training\n",
    "size_cancerous_sample = 75000\n",
    "size_healthy_sample = 75000\n",
    "\n",
    "np.random.seed(0)\n",
    "cancerous_indexes = np.random.choice(df_img[df_img['target']==1].index, size=size_cancerous_sample, replace=False)\n",
    "healthy_indexes = np.random.choice(df_img[df_img['target']==0].index, size=size_healthy_sample, replace=False)\n",
    "all_indexes = np.concatenate((cancerous_indexes, healthy_indexes))\n",
    "\n",
    "sample_df = df_img.loc[all_indexes,:]"
   ]
  },
  {
   "cell_type": "markdown",
   "metadata": {},
   "source": [
    "## 6. Saving data as pickle file"
   ]
  },
  {
   "cell_type": "code",
   "execution_count": 10,
   "metadata": {},
   "outputs": [],
   "source": [
    "sample_df.to_pickle(\"./data/images.pkl\")"
   ]
  }
 ],
 "metadata": {
  "kernelspec": {
   "display_name": "Python 3 (ipykernel)",
   "language": "python",
   "name": "python3"
  },
  "language_info": {
   "codemirror_mode": {
    "name": "ipython",
    "version": 3
   },
   "file_extension": ".py",
   "mimetype": "text/x-python",
   "name": "python",
   "nbconvert_exporter": "python",
   "pygments_lexer": "ipython3",
   "version": "3.7.10"
  }
 },
 "nbformat": 4,
 "nbformat_minor": 4
}
